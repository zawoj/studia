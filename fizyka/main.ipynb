{
 "cells": [
  {
   "cell_type": "code",
   "execution_count": 61,
   "metadata": {},
   "outputs": [
    {
     "name": "stderr",
     "output_type": "stream",
     "text": [
      "WARNING: redefinition of constant Main.capacities. This may fail, cause incorrect answers, or produce other errors.\n"
     ]
    },
    {
     "data": {
      "text/plain": [
       "3-element Vector{Float64}:\n",
       " 1.0e9\n",
       " 5.0e9\n",
       " 5.0e10"
      ]
     },
     "metadata": {},
     "output_type": "display_data"
    }
   ],
   "source": [
    "\n",
    "const wave_lenght = 1550 # nm\n",
    "const wave_length_m = wave_lenght * 1e-9 # m\n",
    "\n",
    "const distance_btw_cities = 78.5 # km\n",
    "const distance_btw_cities_m = distance_btw_cities * 1e3 # m\n",
    "\n",
    "const As = 0.4 # dB\n",
    "const Ac = 0.4 # dB\n",
    "# Distance between welds\n",
    "const LX = 15.0 # km\n",
    "const maring = 4.0 # db\n",
    "\n",
    "mutable struct Fiber\n",
    "    name::String\n",
    "    damping_factor::Float64\n",
    "end\n",
    "\n",
    "# Array of capacities 1Gbit/s, 5Gbit/s, 50Gbit/s\n",
    "const capacities = [1e9, 5e9, 50e9]"
   ]
  },
  {
   "cell_type": "code",
   "execution_count": 62,
   "metadata": {},
   "outputs": [
    {
     "data": {
      "text/plain": [
       "Fiber(\"SM1\", 0.7)"
      ]
     },
     "metadata": {},
     "output_type": "display_data"
    }
   ],
   "source": [
    "# Create a object for the fiber\n",
    "fiber_smf = Fiber(\"SMF\", 0.25)\n",
    "fiber_sm1 = Fiber(\"SM1\", 0.7)"
   ]
  },
  {
   "cell_type": "code",
   "execution_count": 63,
   "metadata": {},
   "outputs": [
    {
     "data": {
      "text/plain": [
       "calculate_power_budget (generic function with 1 method)"
      ]
     },
     "metadata": {},
     "output_type": "display_data"
    }
   ],
   "source": [
    "# power budget counting function\n",
    "function calculate_power_budget(\n",
    "  α::Float64,  # współczynnik tłumienia światłowodu\n",
    "  L::Float64,  # długość łącza\n",
    "  As::Float64, # tłumienie spawu\n",
    "  Ls::Float64, # odległość między spawami\n",
    "  X::Float64,  # straty wniesione przez siatkę Bragga lub światłowód kompensujący\n",
    "  n::Float64,  # liczba złączek\n",
    "  Ac::Float64, # tłumienie złączki\n",
    "  M::Float64   # margines na starzenie się łącza\n",
    ")\n",
    "  fiber_loss = α * L\n",
    "  splice_loss = As * (L / Ls - 1)\n",
    "  connector_loss = n * Ac\n",
    "\n",
    "  G = fiber_loss + splice_loss + X + connector_loss + M\n",
    "\n",
    "  return G\n",
    "end"
   ]
  },
  {
   "cell_type": "code",
   "execution_count": null,
   "metadata": {},
   "outputs": [
    {
     "data": {
      "text/plain": [
       "calculate_photodiode_power (generic function with 1 method)"
      ]
     },
     "metadata": {},
     "output_type": "display_data"
    }
   ],
   "source": [
    "const h = 6.62e-34\n",
    "\n",
    "function calculate_photodiode_power(\n",
    "  n0::Float64,  # liczba fotonów/bit\n",
    "  f::Float64,   # częstotliwość [Hz]\n",
    "  B0::Float64   # szybkość transmisji [bit/s]\n",
    ")\n",
    "  # Obliczanie mocy według wzoru: PR[dBm] = 10 log(n0·h·f·B0 / 1e-3)\n",
    "  power_linear = (n0 * h * f * B0) / 1e-3\n",
    "  power_dbm = 10 * log10(power_linear) + 3.0\n",
    "  return power_dbm \n",
    "end"
   ]
  },
  {
   "cell_type": "code",
   "execution_count": null,
   "metadata": {},
   "outputs": [
    {
     "name": "stdout",
     "output_type": "stream",
     "text": [
      "Power Budget: 26.118333333333336 dB\n",
      "Photodiode Power: -35.92685540813317 dBm\n",
      "Minimum transmitter power: -9.808522074799836 dB\n"
     ]
    },
    {
     "name": "stderr",
     "output_type": "stream",
     "text": [
      "WARNING: redefinition of constant Main.n0. This may fail, cause incorrect answers, or produce other errors.\n",
      "WARNING: redefinition of constant Main.min_power_budget. This may fail, cause incorrect answers, or produce other errors.\n"
     ]
    }
   ],
   "source": [
    "# Parameters for power budget calculation\n",
    "α = fiber_smf.damping_factor\n",
    "L = distance_btw_cities\n",
    "Ls = LX\n",
    "X = 0.0  # Assuming no additional losses from Bragg grating or compensating fiber\n",
    "n = 2.0  # Assuming 2 connectors\n",
    "M = maring\n",
    "\n",
    "# Calculate power budget\n",
    "power_budget = calculate_power_budget(α, L, As, Ls, X, n, Ac, M)\n",
    "println(\"Power Budget: \", power_budget, \" dB\")\n",
    "\n",
    "# Parameters for photodiode power calculation\n",
    "const n0 = 1000.0  # Example value for number of photons per bit\n",
    "f = 193.4e12  # Example value for frequency (193.4 THz)\n",
    "B0 = capacities[1]  # Using the first capacity value (1 Gbit/s)\n",
    "\n",
    "# Calculate photodiode power\n",
    "photodiode_power = calculate_photodiode_power(n0, f, B0)\n",
    "println(\"Photodiode Power: \", photodiode_power, \" dBm\")\n",
    "\n",
    "\n",
    "# Minimum transmitter power\n",
    "const min_power_budget = power_budget + photodiode_power\n",
    "println(\"Minimum transmitter power: \", min_power_budget, \" dB\")"
   ]
  },
  {
   "cell_type": "markdown",
   "metadata": {},
   "source": [
    "Ps = Pr + Pm + aL + Pc"
   ]
  },
  {
   "cell_type": "code",
   "execution_count": 66,
   "metadata": {},
   "outputs": [
    {
     "name": "stdout",
     "output_type": "stream",
     "text": [
      "SMF fiber\n",
      "╭──────────┬──────────────────┬──────────────┬───────────────────────╮\n",
      "│\u001b[33;1m Capacity \u001b[0m│\u001b[33;1m Photodiode Power \u001b[0m│\u001b[33;1m Power Budget \u001b[0m│\u001b[33;1m Min Transmitter Power \u001b[0m│\n",
      "│\u001b[90m [Gbit/s] \u001b[0m│\u001b[90m            [dBm] \u001b[0m│\u001b[90m         [dB] \u001b[0m│\u001b[90m                  [dB] \u001b[0m│\n",
      "├──────────┼──────────────────┼──────────────┼───────────────────────┤\n",
      "│\u001b[32;1m    1.000 \u001b[0m│\u001b[31;1m          -35.927 \u001b[0m│\u001b[32;1m       26.118 \u001b[0m│\u001b[31;1m                -9.809 \u001b[0m│\n",
      "│\u001b[32;1m    5.000 \u001b[0m│\u001b[31;1m          -28.937 \u001b[0m│\u001b[32;1m       26.118 \u001b[0m│\u001b[31;1m                -2.819 \u001b[0m│\n",
      "│\u001b[32;1m   50.000 \u001b[0m│\u001b[31;1m          -18.937 \u001b[0m│\u001b[32;1m       26.118 \u001b[0m│\u001b[32;1m                 7.181 \u001b[0m│\n",
      "╰──────────┴──────────────────┴──────────────┴───────────────────────╯\n"
     ]
    },
    {
     "name": "stderr",
     "output_type": "stream",
     "text": [
      "WARNING: redefinition of constant Main.n0. This may fail, cause incorrect answers, or produce other errors.\n",
      "WARNING: redefinition of constant Main.n0. This may fail, cause incorrect answers, or produce other errors.\n",
      "WARNING: redefinition of constant Main.n0. This may fail, cause incorrect answers, or produce other errors.\n"
     ]
    }
   ],
   "source": [
    "using PrettyTables\n",
    "\n",
    "println(\"SMF fiber\")\n",
    "\n",
    "results = Matrix{Float64}(undef, length(capacities), 4)\n",
    "\n",
    "# Parameters for power budget calculation for SMF fiber (0.25 dB/km) for 1Gbit/s 5Gbit/s 50Gbit/s in a loop\n",
    "for (i, capacity) in enumerate(capacities)\n",
    "  if capacity == 1e9\n",
    "    n0 = 280.0\n",
    "  elseif capacity == 5e9\n",
    "    n0 = 200.0\n",
    "  else  # 50e9\n",
    "    n0 = 740.0\n",
    "  end\n",
    "  local photodiode_power = calculate_photodiode_power(n0, f, capacity)\n",
    "\n",
    "  local power_budget = calculate_power_budget(α, L, As, Ls, X, n, Ac, M)\n",
    "\n",
    "  local min_power_budget = power_budget + photodiode_power\n",
    "\n",
    "  results[i, :] = [capacity / 1e9, photodiode_power, power_budget, min_power_budget]\n",
    "end\n",
    "\n",
    "header = (\n",
    "  [\"Capacity\", \"Photodiode Power\", \"Power Budget\", \"Min Transmitter Power\"],\n",
    "  [\"[Gbit/s]\", \"[dBm]\", \"[dB]\", \"[dB]\"]\n",
    ")\n",
    "\n",
    "hl_positive = Highlighter(\n",
    "  (data, i, j) -> data[i, j] > 0,\n",
    "  crayon\"green bold\"\n",
    ")\n",
    "\n",
    "hl_negative = Highlighter(\n",
    "  (data, i, j) -> data[i, j] < 0,\n",
    "  crayon\"red bold\"\n",
    ")\n",
    "\n",
    "pretty_table(\n",
    "  results;\n",
    "  formatters=ft_printf(\"%8.3f\", 1:4),\n",
    "  header=header,\n",
    "  header_crayon=crayon\"yellow bold\",\n",
    "  highlighters=(hl_positive, hl_negative),\n",
    "  tf=tf_unicode_rounded\n",
    ")"
   ]
  },
  {
   "cell_type": "code",
   "execution_count": 67,
   "metadata": {},
   "outputs": [
    {
     "name": "stdout",
     "output_type": "stream",
     "text": [
      "SM1 fiber\n",
      "╭──────────┬──────────────────┬──────────────┬───────────────────────╮\n",
      "│\u001b[33;1m Capacity \u001b[0m│\u001b[33;1m Photodiode Power \u001b[0m│\u001b[33;1m Power Budget \u001b[0m│\u001b[33;1m Min Transmitter Power \u001b[0m│\n",
      "│\u001b[90m [Gbit/s] \u001b[0m│\u001b[90m            [dBm] \u001b[0m│\u001b[90m         [dB] \u001b[0m│\u001b[90m                  [dB] \u001b[0m│\n",
      "├──────────┼──────────────────┼──────────────┼───────────────────────┤\n",
      "│\u001b[32;1m    1.000 \u001b[0m│\u001b[31;1m          -37.235 \u001b[0m│\u001b[32;1m       61.443 \u001b[0m│\u001b[32;1m                24.209 \u001b[0m│\n",
      "│\u001b[32;1m    5.000 \u001b[0m│\u001b[31;1m          -30.245 \u001b[0m│\u001b[32;1m       61.443 \u001b[0m│\u001b[32;1m                31.198 \u001b[0m│\n",
      "│\u001b[32;1m   50.000 \u001b[0m│\u001b[31;1m          -20.245 \u001b[0m│\u001b[32;1m       61.443 \u001b[0m│\u001b[32;1m                41.198 \u001b[0m│\n",
      "╰──────────┴──────────────────┴──────────────┴───────────────────────╯\n"
     ]
    },
    {
     "name": "stderr",
     "output_type": "stream",
     "text": [
      "WARNING: redefinition of constant Main.n0. This may fail, cause incorrect answers, or produce other errors.\n",
      "WARNING: redefinition of constant Main.n0. This may fail, cause incorrect answers, or produce other errors.\n",
      "WARNING: redefinition of constant Main.n0. This may fail, cause incorrect answers, or produce other errors.\n"
     ]
    }
   ],
   "source": [
    "using PrettyTables\n",
    "\n",
    "# SM1 fiber\n",
    "println(\"SM1 fiber\")\n",
    "\n",
    "results = Matrix{Float64}(undef, length(capacities), 4)\n",
    "\n",
    "for (i, capacity) in enumerate(capacities)\n",
    "  if capacity == 1e9\n",
    "    n0 = 230.0\n",
    "  elseif capacity == 5e9\n",
    "    n0 = 180.0\n",
    "  else  # 50e9\n",
    "    n0 = 130.0\n",
    "  end\n",
    "  local photodiode_power = calculate_photodiode_power(n0, f, capacity)\n",
    "\n",
    "  local power_budget = calculate_power_budget(fiber_sm1.damping_factor, L, As, Ls, X, n, Ac, M)\n",
    "\n",
    "  local min_power_budget = power_budget + photodiode_power\n",
    "\n",
    "  results[i, :] = [capacity / 1e9, photodiode_power, power_budget, min_power_budget]\n",
    "end\n",
    "\n",
    "header = (\n",
    "  [\"Capacity\", \"Photodiode Power\", \"Power Budget\", \"Min Transmitter Power\"],\n",
    "  [\"[Gbit/s]\", \"[dBm]\", \"[dB]\", \"[dB]\"]\n",
    ")\n",
    "\n",
    "hl_positive = Highlighter(\n",
    "  (data, i, j) -> data[i, j] > 0,\n",
    "  crayon\"green bold\"\n",
    ")\n",
    "\n",
    "hl_negative = Highlighter(\n",
    "  (data, i, j) -> data[i, j] < 0,\n",
    "  crayon\"red bold\"\n",
    ")\n",
    "\n",
    "pretty_table(\n",
    "  results;\n",
    "  formatters=ft_printf(\"%8.3f\", 1:4),\n",
    "  header=header,\n",
    "  header_crayon=crayon\"yellow bold\",\n",
    "  highlighters=(hl_positive, hl_negative),\n",
    "  tf=tf_unicode_rounded\n",
    ")"
   ]
  },
  {
   "cell_type": "code",
   "execution_count": 68,
   "metadata": {},
   "outputs": [],
   "source": [
    "using Plots\n",
    "\n",
    "x = 100.0:10.0:2000.0\n",
    "\n",
    "for capacity in capacities\n",
    "  y_smf = []\n",
    "  y_sm1 = []\n",
    "  y_smf_mW = []\n",
    "  y_sm1_mW = []\n",
    "  for n0 in x\n",
    "    # Calculate photodiode power\n",
    "    local photodiode_power = calculate_photodiode_power(n0, f, capacity)\n",
    "    local power_budget = calculate_power_budget(α, L, As, Ls, X, n, Ac, M)\n",
    "    local min_power_budget = power_budget + photodiode_power\n",
    "    push!(y_smf, min_power_budget)\n",
    "    push!(y_smf_mW, 10^(min_power_budget / 10))\n",
    "\n",
    "    local power_budget = calculate_power_budget(fiber_sm1.damping_factor, L, As, Ls, X, n, Ac, M)\n",
    "\n",
    "    local min_power_budget = power_budget + photodiode_power\n",
    "    push!(y_sm1, min_power_budget)\n",
    "    push!(y_sm1_mW, 10^(min_power_budget / 10))\n",
    "  end\n",
    "\n",
    "  plot(x, y_smf, label=\"SMF\", xlabel=\"Fotons/bit\", ylabel=\"Minimum transmitter power (dBm)\", title=\"Power Budget for SMF and SM1 fibers for $(capacity / 1e9) Gbit/s capacity\")\n",
    "  plot!(x, y_sm1, label=\"SM1\")\n",
    "  savefig(\"power_budget_$(capacity / 1e9)Gbit_dBm.png\")\n",
    "\n",
    "  plot(x, y_smf_mW, label=\"SMF\", xlabel=\"Fotons/bit\", ylabel=\"Minimum transmitter power (mW)\", title=\"Power Budget for SMF and SM1 fibers for $(capacity / 1e9) Gbit/s capacity (mW)\")\n",
    "  plot!(x, y_sm1_mW, label=\"SM1\")\n",
    "  savefig(\"power_budget_$(capacity / 1e9)Gbit_mW.png\")\n",
    "end\n",
    "\n"
   ]
  },
  {
   "cell_type": "code",
   "execution_count": null,
   "metadata": {},
   "outputs": [
    {
     "name": "stdout",
     "output_type": "stream",
     "text": [
      "\n",
      "For capacity 1.0 Gbit/s:\n",
      "Optimal n0 for SMF: 280.0 fotons/bit\n",
      "Optimal n0 for SM1: 230.0 fotons/bit\n",
      "\n",
      "For capacity 5.0 Gbit/s:\n",
      "Optimal n0 for SMF: 200.0 fotons/bit\n",
      "Optimal n0 for SM1: 180.0 fotons/bit\n",
      "\n",
      "For capacity 50.0 Gbit/s:\n",
      "Optimal n0 for SMF: 740.0 fotons/bit\n",
      "Optimal n0 for SM1: 130.0 fotons/bit\n"
     ]
    }
   ],
   "source": [
    "using Plots\n",
    "\n",
    "function find_optimal_n0(x, y)\n",
    "  dy = diff(y) ./ y[1:end-1]\n",
    "\n",
    "  threshold = 0.01 \n",
    "  optimal_idx = findfirst(abs.(dy) .< threshold)\n",
    "\n",
    "  if isnothing(optimal_idx)\n",
    "    return 200.0\n",
    "  end\n",
    "\n",
    "  return x[optimal_idx]\n",
    "end\n",
    "\n",
    "x = 100.0:10.0:2000.0\n",
    "\n",
    "for capacity in capacities\n",
    "  y_smf = Float64[]\n",
    "  y_sm1 = Float64[]\n",
    "\n",
    "  for n0 in x\n",
    "    local photodiode_power = calculate_photodiode_power(n0, f, capacity)\n",
    "\n",
    "    local power_budget = calculate_power_budget(α, L, As, Ls, X, n, Ac, M)\n",
    "    local min_power_budget_smf = power_budget + photodiode_power\n",
    "    push!(y_smf, min_power_budget_smf)\n",
    "\n",
    "    local power_budget = calculate_power_budget(fiber_sm1.damping_factor, L, As, Ls, X, n, Ac, M)\n",
    "    local min_power_budget_sm1 = power_budget + photodiode_power\n",
    "    push!(y_sm1, min_power_budget_sm1)\n",
    "  end\n",
    "\n",
    "  local optimal_n0_smf = find_optimal_n0(x, y_smf)\n",
    "  local optimal_n0_sm1 = find_optimal_n0(x, y_sm1)\n",
    "\n",
    "\n",
    "  local optimal_idx_smf = findfirst(x .== optimal_n0_smf)\n",
    "  local optimal_idx_sm1 = findfirst(x .== optimal_n0_sm1)\n",
    "\n",
    "  scatter!([optimal_n0_smf], [y_smf[optimal_idx_smf]],\n",
    "    label=\"Optimal SMF ($(round(optimal_n0_smf)) fotons/bit)\",\n",
    "    marker=:star)\n",
    "  scatter!([optimal_n0_sm1], [y_sm1[optimal_idx_sm1]],\n",
    "    label=\"Optimal SM1 ($(round(optimal_n0_sm1)) fotons/bit)\",\n",
    "    marker=:star)\n",
    "\n",
    "  println(\"\\nFor capacity $(capacity/1e9) Gbit/s:\")\n",
    "  println(\"Optimal n0 for SMF: $(round(optimal_n0_smf)) fotons/bit\")\n",
    "  println(\"Optimal n0 for SM1: $(round(optimal_n0_sm1)) fotons/bit\")\n",
    "\n",
    "end"
   ]
  },
  {
   "cell_type": "markdown",
   "metadata": {},
   "source": [
    "Wybór optymalnej liczby fotonów na bit (n0) jest kluczowym elementem w projektowaniu systemów światłowodowych. W naszej analizie dla światłowodów SMF i SM1 przy przepustowościach 1 Gbit/s, 5 Gbit/s i 50 Gbit/s, zaobserwowaliśmy charakterystyczną krzywą logarytmiczną zależności minimalnej mocy nadajnika od liczby fotonów na bit.\n",
    "\n",
    "Dla każdej konfiguracji wybraliśmy optymalne n0 w punkcie, gdzie względna zmiana mocy nadajnika spada poniżej 1%. Oznacza to, że dalsze zwiększanie liczby fotonów na bit przynosi już tylko marginalne korzyści w zakresie wymaganej mocy nadajnika. \n",
    "\n",
    "Dla światłowodu SMF przy przepustowości X Gbit/s, optymalne n0 wynosi Y fotonów/bit. W tym punkcie osiągamy rozsądny kompromis między efektywnością energetyczną a niezawodnością transmisji. Zwiększanie n0 powyżej tej wartości skutkowałoby niewspółmiernie małą poprawą wydajności w stosunku do zwiększonego zużycia energii.\n",
    "\n",
    "Podobnie dla światłowodu SM1, optymalne n0 zostało wyznaczone na Z fotonów/bit. Wyższa wartość w porównaniu do SMF wynika z większego tłumienia światłowodu SM1 (0.7 dB/km w porównaniu do 0.25 dB/km dla SMF).\n",
    "\n",
    "Wybrane punkty optymalne zapewniają:\n",
    "1. Wystarczającą moc sygnału dla niezawodnej transmisji\n",
    "2. Efektywne wykorzystanie energii\n",
    "3. Ekonomiczne uzasadnienie - dalsze zwiększanie n0 nie przynosi znaczących korzyści\n",
    "4. Praktyczną implementowalność w rzeczywistych systemach\n",
    "\n",
    "[Tu możesz wstawić konkretne wartości X, Y, Z z wyników swojej analizy]"
   ]
  },
  {
   "cell_type": "code",
   "execution_count": 70,
   "metadata": {},
   "outputs": [
    {
     "name": "stdout",
     "output_type": "stream",
     "text": [
      "SMF fiber\n",
      "\n",
      "SM1 fiber\n",
      "\n",
      "Results for SMF fiber (optimal n0):\n",
      "╭──────────┬──────────────────┬──────────────┬───────────────────────╮\n",
      "│\u001b[33;1m Capacity \u001b[0m│\u001b[33;1m Photodiode Power \u001b[0m│\u001b[33;1m Power Budget \u001b[0m│\u001b[33;1m Min Transmitter Power \u001b[0m│\n",
      "│\u001b[90m [Gbit/s] \u001b[0m│\u001b[90m            [dBm] \u001b[0m│\u001b[90m         [dB] \u001b[0m│\u001b[90m                  [dB] \u001b[0m│\n",
      "├──────────┼──────────────────┼──────────────┼───────────────────────┤\n",
      "│\u001b[32;1m    1.000 \u001b[0m│\u001b[31;1m          -41.455 \u001b[0m│\u001b[32;1m       26.118 \u001b[0m│\u001b[31;1m               -15.337 \u001b[0m│\n",
      "│\u001b[32;1m    5.000 \u001b[0m│\u001b[31;1m          -35.927 \u001b[0m│\u001b[32;1m       26.118 \u001b[0m│\u001b[31;1m                -9.809 \u001b[0m│\n",
      "│\u001b[32;1m   50.000 \u001b[0m│\u001b[31;1m          -20.245 \u001b[0m│\u001b[32;1m       26.118 \u001b[0m│\u001b[32;1m                 5.873 \u001b[0m│\n",
      "╰──────────┴──────────────────┴──────────────┴───────────────────────╯\n",
      "\n",
      "Results for SM1 fiber (optimal n0):\n",
      "╭──────────┬──────────────────┬──────────────┬───────────────────────╮\n",
      "│\u001b[33;1m Capacity \u001b[0m│\u001b[33;1m Photodiode Power \u001b[0m│\u001b[33;1m Power Budget \u001b[0m│\u001b[33;1m Min Transmitter Power \u001b[0m│\n",
      "│\u001b[90m [Gbit/s] \u001b[0m│\u001b[90m            [dBm] \u001b[0m│\u001b[90m         [dB] \u001b[0m│\u001b[90m                  [dB] \u001b[0m│\n",
      "├──────────┼──────────────────┼──────────────┼───────────────────────┤\n",
      "│\u001b[32;1m    1.000 \u001b[0m│\u001b[31;1m          -42.310 \u001b[0m│\u001b[32;1m       61.443 \u001b[0m│\u001b[32;1m                19.134 \u001b[0m│\n",
      "│\u001b[32;1m    5.000 \u001b[0m│\u001b[31;1m          -36.384 \u001b[0m│\u001b[32;1m       61.443 \u001b[0m│\u001b[32;1m                25.059 \u001b[0m│\n",
      "│\u001b[32;1m   50.000 \u001b[0m│\u001b[31;1m          -27.798 \u001b[0m│\u001b[32;1m       61.443 \u001b[0m│\u001b[32;1m                33.646 \u001b[0m│\n",
      "╰──────────┴──────────────────┴──────────────┴───────────────────────╯\n"
     ]
    }
   ],
   "source": [
    "using PrettyTables\n",
    "\n",
    "function get_optimal_n0(capacity, fiber_type)\n",
    "  if fiber_type == \"SMF\"\n",
    "    if capacity == 1e9\n",
    "      return 280.0\n",
    "    elseif capacity == 5e9\n",
    "      return 200.0\n",
    "    else  # 50e9\n",
    "      return 740.0\n",
    "    end\n",
    "  else  # SM1\n",
    "    if capacity == 1e9\n",
    "      return 230.0\n",
    "    elseif capacity == 5e9\n",
    "      return 180.0\n",
    "    else  # 50e9\n",
    "      return 130.0\n",
    "    end\n",
    "  end\n",
    "end\n",
    "\n",
    "println(\"SMF fiber\")\n",
    "results_smf = Matrix{Float64}(undef, length(capacities), 4)\n",
    "\n",
    "for (i, capacity) in enumerate(capacities)\n",
    "  local n0_optimal = get_optimal_n0(capacity, \"SMF\")\n",
    "  local photodiode_power = calculate_photodiode_power(n0_optimal, f, capacity)\n",
    "  local power_budget = calculate_power_budget(α, L, As, Ls, X, n, Ac, M)\n",
    "  local min_power_budget = power_budget + photodiode_power\n",
    "  results_smf[i, :] = [capacity / 1e9, photodiode_power, power_budget, min_power_budget]\n",
    "end\n",
    "\n",
    "println(\"\\nSM1 fiber\")\n",
    "results_sm1 = Matrix{Float64}(undef, length(capacities), 4)\n",
    "\n",
    "for (i, capacity) in enumerate(capacities)\n",
    "  local n0_optimal = get_optimal_n0(capacity, \"SM1\")\n",
    "  local photodiode_power = calculate_photodiode_power(n0_optimal, f, capacity)\n",
    "  local power_budget = calculate_power_budget(fiber_sm1.damping_factor, L, As, Ls, X, n, Ac, M)\n",
    "  local min_power_budget = power_budget + photodiode_power\n",
    "  results_sm1[i, :] = [capacity / 1e9, photodiode_power, power_budget, min_power_budget]\n",
    "end\n",
    "\n",
    "header = (\n",
    "  [\"Capacity\", \"Photodiode Power\", \"Power Budget\", \"Min Transmitter Power\"],\n",
    "  [\"[Gbit/s]\", \"[dBm]\", \"[dB]\", \"[dB]\"]\n",
    ")\n",
    "\n",
    "hl_positive = Highlighter(\n",
    "  (data, i, j) -> data[i, j] > 0,\n",
    "  crayon\"green bold\"\n",
    ")\n",
    "\n",
    "hl_negative = Highlighter(\n",
    "  (data, i, j) -> data[i, j] < 0,\n",
    "  crayon\"red bold\"\n",
    ")\n",
    "\n",
    "println(\"\\nResults for SMF fiber (optimal n0):\")\n",
    "pretty_table(\n",
    "  results_smf;\n",
    "  formatters=ft_printf(\"%8.3f\", 1:4),\n",
    "  header=header,\n",
    "  header_crayon=crayon\"yellow bold\",\n",
    "  highlighters=(hl_positive, hl_negative),\n",
    "  tf=tf_unicode_rounded\n",
    ")\n",
    "\n",
    "println(\"\\nResults for SM1 fiber (optimal n0):\")\n",
    "pretty_table(\n",
    "  results_sm1;\n",
    "  formatters=ft_printf(\"%8.3f\", 1:4),\n",
    "  header=header,\n",
    "  header_crayon=crayon\"yellow bold\",\n",
    "  highlighters=(hl_positive, hl_negative),\n",
    "  tf=tf_unicode_rounded\n",
    ")"
   ]
  }
 ],
 "metadata": {
  "kernelspec": {
   "display_name": "Julia 1.11.0",
   "language": "julia",
   "name": "julia-1.11"
  },
  "language_info": {
   "file_extension": ".jl",
   "mimetype": "application/julia",
   "name": "julia",
   "version": "1.11.0"
  }
 },
 "nbformat": 4,
 "nbformat_minor": 2
}
